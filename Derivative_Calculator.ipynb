{
  "nbformat": 4,
  "nbformat_minor": 0,
  "metadata": {
    "colab": {
      "name": "Derivative Calculator.ipynb",
      "provenance": [],
      "collapsed_sections": [],
      "authorship_tag": "ABX9TyPXS+GtnHMLvREGkXxzwoVn",
      "include_colab_link": true
    },
    "kernelspec": {
      "name": "python3",
      "display_name": "Python 3"
    }
  },
  "cells": [
    {
      "cell_type": "markdown",
      "metadata": {
        "id": "view-in-github",
        "colab_type": "text"
      },
      "source": [
        "<a href=\"https://colab.research.google.com/github/Gombosuren/test/blob/main/Derivative_Calculator.ipynb\" target=\"_parent\"><img src=\"https://colab.research.google.com/assets/colab-badge.svg\" alt=\"Open In Colab\"/></a>"
      ]
    },
    {
      "cell_type": "markdown",
      "metadata": {
        "id": "Lcmb5_yVSWjA"
      },
      "source": [
        "### Gombosuren.A, MUST.\r\n",
        "\r\n",
        "### Create A Derivative Calculator in Python\r\n",
        "\r\n",
        "One of the formal definitions of derivatives is"
      ]
    },
    {
      "cell_type": "markdown",
      "metadata": {
        "id": "G5aMRnrajwEY"
      },
      "source": [
        "$F = f(x)$\r\n",
        "\r\n",
        "$\\displaystyle{F_x = \\frac{\\partial F}{\\partial x} = \\lim_{h\\to 0} \\frac{f(x+h)-f(x)}{h}}$\r\n",
        "\r\n",
        "<br>\r\n",
        "<br>\r\n",
        "\r\n",
        "$F = f(x, y)$\r\n",
        "\r\n",
        "$\\displaystyle{F_x = \\frac{\\partial F}{\\partial x} = \\lim_{h\\to 0} \\frac{f(x+h, y)-f(x, y)}{h}}$\r\n",
        "\r\n"
      ]
    },
    {
      "cell_type": "markdown",
      "metadata": {
        "id": "lRosQGF6q46C"
      },
      "source": [
        "### Example 1\r\n",
        "\r\n",
        "1-D"
      ]
    },
    {
      "cell_type": "code",
      "metadata": {
        "colab": {
          "base_uri": "https://localhost:8080/"
        },
        "id": "Tevs1xMiSfDX",
        "outputId": "721edd3e-e82c-4684-be8f-21236d92d94f"
      },
      "source": [
        "# Author Gombosuren.A;\r\n",
        "# f = x**3;\r\n",
        "\r\n",
        "def f(x):\r\n",
        "    return x**3;\r\n",
        "  \r\n",
        "# for instance f(2) = 8;\r\n",
        "print(\"x = 2; f = x**3; f(x); result:\", f(2));\r\n",
        "\r\n",
        "def f_dx(f, x):\r\n",
        "\r\n",
        "    h = 0.001;\r\n",
        "    slope = (f(x + h) - f(x))/h;\r\n",
        "    return round(slope, 3);\r\n",
        "\r\n",
        "# for instance f_dx(2) = 12;\r\n",
        "print(\"x = 2; f = x**3; f_dx(x); result: \", f_dx(f, 2));"
      ],
      "execution_count": 29,
      "outputs": [
        {
          "output_type": "stream",
          "text": [
            "x = 2; f = x**3; f(x); result: 8\n",
            "x = 2; f = x**3; f_dx(x); result:  12.006\n"
          ],
          "name": "stdout"
        }
      ]
    },
    {
      "cell_type": "markdown",
      "metadata": {
        "id": "YnHqA7C2rATP"
      },
      "source": [
        "### Example 2\r\n",
        "\r\n",
        "2-D"
      ]
    },
    {
      "cell_type": "code",
      "metadata": {
        "colab": {
          "base_uri": "https://localhost:8080/"
        },
        "id": "3vCeydaAq_wa",
        "outputId": "c5cecf6b-d4e1-4af6-d5fe-3d48f736e95e"
      },
      "source": [
        "# f = 2*x*y;\r\n",
        "\r\n",
        "def f(x, y):\r\n",
        "  return 2*x*y;\r\n",
        "\r\n",
        "# for instance f(3, 4) = 24;\r\n",
        "print(\"x = 3; y = 4; f = 2*x*y; f(x, y); result:\", f(3, 4));\r\n",
        "\r\n",
        "def f_dx(f, x, y):\r\n",
        "\r\n",
        "    h = 0.001;\r\n",
        "    slope = (f(x + h, y) - f(x, y))/h;\r\n",
        "    return round(slope, 3);\r\n",
        "\r\n",
        "# for instance f_dx(3, 4) = 8;\r\n",
        "print(\"x = 3; y = 4; f = 2*x*y; f_dx(x, y); result: \", f_dx(f, 3, 4));"
      ],
      "execution_count": 30,
      "outputs": [
        {
          "output_type": "stream",
          "text": [
            "x = 3; y = 4; f = 2*x*y; f(x, y); result: 24\n",
            "x = 3; y = 4; f = 2*x*y; f_dx(x, y); result:  8.0\n"
          ],
          "name": "stdout"
        }
      ]
    }
  ]
}