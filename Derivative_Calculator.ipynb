{
  "nbformat": 4,
  "nbformat_minor": 0,
  "metadata": {
    "colab": {
      "name": "Derivative Calculator.ipynb",
      "provenance": [],
      "collapsed_sections": [],
      "authorship_tag": "ABX9TyPd4IiJ52C10SbajV4rHXMw",
      "include_colab_link": true
    },
    "kernelspec": {
      "name": "python3",
      "display_name": "Python 3"
    }
  },
  "cells": [
    {
      "cell_type": "markdown",
      "metadata": {
        "id": "view-in-github",
        "colab_type": "text"
      },
      "source": [
        "<a href=\"https://colab.research.google.com/github/Gombosuren/test/blob/main/Derivative_Calculator.ipynb\" target=\"_parent\"><img src=\"https://colab.research.google.com/assets/colab-badge.svg\" alt=\"Open In Colab\"/></a>"
      ]
    },
    {
      "cell_type": "markdown",
      "metadata": {
        "id": "Lcmb5_yVSWjA"
      },
      "source": [
        "## Create A Derivative Calculator in Python"
      ]
    },
    {
      "cell_type": "code",
      "metadata": {
        "colab": {
          "base_uri": "https://localhost:8080/"
        },
        "id": "Tevs1xMiSfDX",
        "outputId": "029259aa-29fc-405a-ef69-9c5092b5bbdc"
      },
      "source": [
        "# f = x**3;\r\n",
        "\r\n",
        "def f(x):\r\n",
        "    return x**3;\r\n",
        "  \r\n",
        "# for instance f(2) = 8;\r\n",
        "print(\"x = 2; f = x**3; f(x); result:\", f(2));\r\n",
        "\r\n",
        "def f_dx(f, var):\r\n",
        "\r\n",
        "    h = 0.001;\r\n",
        "    slope = (f(var + h) - f(var))/h;\r\n",
        "    return round(slope, 3);\r\n",
        "\r\n",
        "# for instance f'(2) = 12;\r\n",
        "print(\"x = 2; f = x**3; f'(x); result: \", f_dx(f, 2));"
      ],
      "execution_count": 9,
      "outputs": [
        {
          "output_type": "stream",
          "text": [
            "x = 2; f = x**2; f(x); result: 8\n",
            "x = 2; f = x**2; f'(x); result:  12.006\n"
          ],
          "name": "stdout"
        }
      ]
    }
  ]
}