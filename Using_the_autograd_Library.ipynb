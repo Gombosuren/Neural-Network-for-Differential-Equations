{
  "nbformat": 4,
  "nbformat_minor": 0,
  "metadata": {
    "colab": {
      "name": "Using the autograd Library.ipynb",
      "provenance": [],
      "collapsed_sections": [],
      "authorship_tag": "ABX9TyOZwtIL9mUbPfwhYGXleLd3"
    },
    "kernelspec": {
      "name": "python3",
      "display_name": "Python 3"
    }
  },
  "cells": [
    {
      "cell_type": "markdown",
      "metadata": {
        "id": "PcvkVNBFYgFw"
      },
      "source": [
        "### Gombosuren.A, MUST."
      ]
    },
    {
      "cell_type": "markdown",
      "metadata": {
        "id": "UMjl7yemafuW"
      },
      "source": [
        "### Using the autograd Library\n",
        "\n",
        "Тухайн цэг дээрх уламжлалыг олохдоо python autograd library ашиглах нь."
      ]
    },
    {
      "cell_type": "markdown",
      "metadata": {
        "id": "UWNuY9TgYsQv"
      },
      "source": [
        "#### import libs"
      ]
    },
    {
      "cell_type": "code",
      "metadata": {
        "id": "ZInxBp-tYgVQ"
      },
      "source": [
        "# import statement for autograd wrapped numpy;\n",
        "import autograd.numpy as np;   "
      ],
      "execution_count": 1,
      "outputs": []
    },
    {
      "cell_type": "code",
      "metadata": {
        "id": "NP3zmkEJYuL5"
      },
      "source": [
        "# a named Python function;\n",
        "def f(x):\n",
        "    return 2*x**3;"
      ],
      "execution_count": 2,
      "outputs": []
    },
    {
      "cell_type": "code",
      "metadata": {
        "colab": {
          "base_uri": "https://localhost:8080/"
        },
        "id": "AYKKm2ihZE4J",
        "outputId": "96ba781a-3f1e-4b0b-defc-37b81c677f08"
      },
      "source": [
        "# simple example;\n",
        "x = 2; \n",
        "re_f = f(x);\n",
        "print(\"function result: \", re_f);"
      ],
      "execution_count": 5,
      "outputs": [
        {
          "output_type": "stream",
          "text": [
            "function result:  16\n"
          ],
          "name": "stdout"
        }
      ]
    },
    {
      "cell_type": "markdown",
      "metadata": {
        "id": "PTUSvARqZ8tw"
      },
      "source": [
        "### using the lambda function"
      ]
    },
    {
      "cell_type": "code",
      "metadata": {
        "id": "tYN-WeZaZoR3"
      },
      "source": [
        "# create lambda function;\n",
        "f = lambda x: 2*x**3;"
      ],
      "execution_count": 6,
      "outputs": []
    },
    {
      "cell_type": "code",
      "metadata": {
        "colab": {
          "base_uri": "https://localhost:8080/"
        },
        "id": "GeZoahpKZ7rP",
        "outputId": "60d631fb-608c-4ed2-fabc-48169873cc41"
      },
      "source": [
        "# simple example;\n",
        "x = 2; \n",
        "re_f = f(x);\n",
        "print(\"function result: \", re_f);"
      ],
      "execution_count": 7,
      "outputs": [
        {
          "output_type": "stream",
          "text": [
            "function result:  16\n"
          ],
          "name": "stdout"
        }
      ]
    },
    {
      "cell_type": "markdown",
      "metadata": {
        "id": "Sne6myTObI5Y"
      },
      "source": [
        "### using the autograd lib"
      ]
    },
    {
      "cell_type": "code",
      "metadata": {
        "id": "DMAcOUM0aKMB"
      },
      "source": [
        "# import statment for gradient calculator;\n",
        "from autograd import grad;   "
      ],
      "execution_count": 8,
      "outputs": []
    },
    {
      "cell_type": "markdown",
      "metadata": {
        "id": "vAG5xp__cXyV"
      },
      "source": [
        "#### first order derivative\n",
        "\n",
        "Нэгдүгээр эрэмбийн тухайн уламжлал"
      ]
    },
    {
      "cell_type": "code",
      "metadata": {
        "colab": {
          "base_uri": "https://localhost:8080/"
        },
        "id": "7UC5bMevab8X",
        "outputId": "2f43eecd-e99b-4729-97c6-f8baa1fa8b8a"
      },
      "source": [
        "# f = lambda x: 2*x**3;\n",
        "# dfdx = 6*x**2;\n",
        "dfdx = grad(f);\n",
        "print(dfdx);"
      ],
      "execution_count": 9,
      "outputs": [
        {
          "output_type": "stream",
          "text": [
            "<function unary_to_nary.<locals>.nary_operator.<locals>.nary_f at 0x7f9bb8674488>\n"
          ],
          "name": "stdout"
        }
      ]
    },
    {
      "cell_type": "code",
      "metadata": {
        "colab": {
          "base_uri": "https://localhost:8080/"
        },
        "id": "0kdBbZxnbWyF",
        "outputId": "d3732832-9c29-4daf-feef-672e29150307"
      },
      "source": [
        "# evaluate the gradient function at a point;\n",
        "# x = 2; dfdx(x) = 24;\n",
        "x = 2;\n",
        "print(\"result of gradient f(x): \", dfdx(float(x)));"
      ],
      "execution_count": 12,
      "outputs": [
        {
          "output_type": "stream",
          "text": [
            "result of gradient f(x):  24.0\n"
          ],
          "name": "stdout"
        }
      ]
    },
    {
      "cell_type": "markdown",
      "metadata": {
        "id": "hhvsaA3xclt6"
      },
      "source": [
        "#### second order derivative\n",
        "\n",
        "Хоёрдугаар эрэмбийн тухайн уламжлал"
      ]
    },
    {
      "cell_type": "code",
      "metadata": {
        "colab": {
          "base_uri": "https://localhost:8080/"
        },
        "id": "b0yZfDvTcpLh",
        "outputId": "1ca8ceba-6baf-4dec-85b7-7481420192d3"
      },
      "source": [
        "# f = lambda x: 2*x**3;\n",
        "# dfdx = 6*x**2;\n",
        "# dfdx2 = 12*x;\n",
        "dfdx = grad(f);\n",
        "dfdx2 = grad(dfdx);\n",
        "print(dfdx2);"
      ],
      "execution_count": 14,
      "outputs": [
        {
          "output_type": "stream",
          "text": [
            "<function unary_to_nary.<locals>.nary_operator.<locals>.nary_f at 0x7f9bb85c2598>\n"
          ],
          "name": "stdout"
        }
      ]
    },
    {
      "cell_type": "code",
      "metadata": {
        "colab": {
          "base_uri": "https://localhost:8080/"
        },
        "id": "SzPhBfA5c1si",
        "outputId": "6d15d737-b5fd-4c8a-fd05-26b84b6a80e5"
      },
      "source": [
        "# evaluate the gradient function at a point;\n",
        "# x = 3; dfdx2(x) = 36;\n",
        "x = 3;\n",
        "print(\"result of gradient f(x): \", dfdx2(float(x)));"
      ],
      "execution_count": 17,
      "outputs": [
        {
          "output_type": "stream",
          "text": [
            "result of gradient f(x):  36.0\n"
          ],
          "name": "stdout"
        }
      ]
    },
    {
      "cell_type": "markdown",
      "metadata": {
        "id": "T-HV3iaXdMoQ"
      },
      "source": [
        "### Гүүд лаак"
      ]
    }
  ]
}