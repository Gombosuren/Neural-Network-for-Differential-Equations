{
  "nbformat": 4,
  "nbformat_minor": 0,
  "metadata": {
    "colab": {
      "name": "Neural Network for differential equations.ipynb",
      "provenance": [],
      "collapsed_sections": [],
      "authorship_tag": "ABX9TyNemlMW1VOuXYOVd9p38i+H"
    },
    "kernelspec": {
      "name": "python3",
      "display_name": "Python 3"
    }
  },
  "cells": [
    {
      "cell_type": "markdown",
      "metadata": {
        "id": "eCA8j8pamfAE"
      },
      "source": [
        "### Gombosuren.A, MUST"
      ]
    },
    {
      "cell_type": "markdown",
      "metadata": {
        "id": "-K2PSm08mgST"
      },
      "source": [
        "### Neural Network for differential equations\n",
        "\n",
        "Нейрол нетвөрк ашиглан дифференциал тэгшитгэлийн тооцооллыг ойролцоогоор шийдэх аргачлал."
      ]
    },
    {
      "cell_type": "markdown",
      "metadata": {
        "id": "E2osIogXnUnY"
      },
      "source": [
        "[reference1](https://becominghuman.ai/neural-networks-for-solving-differential-equations-fa230ac5e04c)"
      ]
    },
    {
      "cell_type": "markdown",
      "metadata": {
        "id": "idBdPIYSnVI-"
      },
      "source": [
        "#### import libs\n"
      ]
    },
    {
      "cell_type": "code",
      "metadata": {
        "id": "U9WmIUrfmfI0"
      },
      "source": [
        "import autograd.numpy as np;\n",
        "from autograd import grad; \n",
        "import autograd.numpy.random as npr;\n",
        "from autograd.core import primitive;\n",
        "from matplotlib import pyplot as plt;\n",
        "%matplotlib inline"
      ],
      "execution_count": 1,
      "outputs": []
    },
    {
      "cell_type": "code",
      "metadata": {
        "id": "HcKJ1AoTqihQ"
      },
      "source": [
        "nx = 10;\n",
        "dx = 1 / nx;"
      ],
      "execution_count": 2,
      "outputs": []
    },
    {
      "cell_type": "code",
      "metadata": {
        "id": "ta1MhbRGqveL"
      },
      "source": [
        "def A(x):\n",
        "    '''\n",
        "        Left part of initial equation\n",
        "    '''\n",
        "    return x + (1. + 3.*x**2) / (1. + x + x**3)\n",
        "\n",
        "\n",
        "def B(x):\n",
        "    '''\n",
        "        Right part of initial equation\n",
        "    '''\n",
        "    return x**3 + 2.*x + x**2 * ((1. + 3.*x**2) / (1. + x + x**3))\n",
        "\n",
        "\n",
        "def f(x, psy):\n",
        "    '''\n",
        "        d(psy)/dx = f(x, psy)\n",
        "        This is f() function on the right\n",
        "    '''\n",
        "    return B(x) - psy * A(x)\n",
        "\n",
        "\n",
        "def psy_analytic(x):\n",
        "    '''\n",
        "        Analytical solution of current problem\n",
        "    '''\n",
        "    return (np.exp((-x**2)/2.)) / (1. + x + x**3) + x**2"
      ],
      "execution_count": 3,
      "outputs": []
    },
    {
      "cell_type": "code",
      "metadata": {
        "colab": {
          "base_uri": "https://localhost:8080/",
          "height": 265
        },
        "id": "QByEsQGttBgB",
        "outputId": "762046a6-6a55-4d54-d8ae-9e3697144019"
      },
      "source": [
        "x_space = np.linspace(0, 1, nx)    \n",
        "y_space = psy_analytic(x_space)\n",
        "psy_fd = np.zeros_like(y_space)\n",
        "psy_fd[0] = 1. # IC\n",
        "\n",
        "for i in range(1, len(x_space)):\n",
        "    psy_fd[i] = psy_fd[i-1] + B(x_space[i]) * dx - psy_fd[i-1] * A(x_space[i]) * dx\n",
        "  \n",
        "plt.figure()\n",
        "plt.plot(x_space, y_space) \n",
        "plt.plot(x_space, psy_fd)\n",
        "plt.show()"
      ],
      "execution_count": 4,
      "outputs": [
        {
          "output_type": "display_data",
          "data": {
            "image/png": "[encoded data removed]",
            "text/plain": [
              "<Figure size 432x288 with 1 Axes>"
            ]
          },
          "metadata": {
            "tags": [],
            "needs_background": "light"
          }
        }
      ]
    },
    {
      "cell_type": "code",
      "metadata": {
        "id": "w6ad4ig2taqf"
      },
      "source": [
        "def sigmoid(x):\n",
        "    return 1 / (1 + np.exp(-x))\n",
        "\n",
        "\n",
        "def sigmoid_grad(x):\n",
        "    return sigmoid(x) * (1 - sigmoid(x))\n",
        "\n",
        "\n",
        "def neural_network(W, x):\n",
        "    a1 = sigmoid(np.dot(x, W[0]))\n",
        "    return np.dot(a1, W[1])\n",
        "\n",
        "\n",
        "def d_neural_network_dx(W, x, k=1):\n",
        "    return np.dot(np.dot(W[1].T, W[0].T**k), sigmoid_grad(x))\n",
        "\n",
        "\n",
        "def loss_function(W, x):\n",
        "    loss_sum = 0.\n",
        "    for xi in x:\n",
        "        net_out = neural_network(W, xi)[0][0]\n",
        "        psy_t = 1. + xi * net_out\n",
        "        d_net_out = d_neural_network_dx(W, xi)[0][0]\n",
        "        d_psy_t = net_out + xi * d_net_out\n",
        "        func = f(xi, psy_t)       \n",
        "        err_sqr = (d_psy_t - func)**2\n",
        "\n",
        "        loss_sum += err_sqr\n",
        "    return loss_sum"
      ],
      "execution_count": 5,
      "outputs": []
    },
    {
      "cell_type": "code",
      "metadata": {
        "id": "thtRQNjOtfDd"
      },
      "source": [
        "W = [npr.randn(1, 10), npr.randn(10, 1)]\n",
        "lmb = 0.001\n",
        "\n",
        "# x = np.array(1)\n",
        "# print neural_network(W, x)\n",
        "# print d_neural_network_dx(W, x)\n",
        "\n",
        "for i in range(1000):\n",
        "    loss_grad =  grad(loss_function)(W, x_space)\n",
        "    \n",
        "#     print loss_grad[0].shape, W[0].shape\n",
        "#     print loss_grad[1].shape, W[1].shape\n",
        "    \n",
        "    W[0] = W[0] - lmb * loss_grad[0]\n",
        "    W[1] = W[1] - lmb * loss_grad[1]\n",
        "    \n",
        "#     print loss_function(W, x_space)"
      ],
      "execution_count": 6,
      "outputs": []
    },
    {
      "cell_type": "code",
      "metadata": {
        "colab": {
          "base_uri": "https://localhost:8080/",
          "height": 469
        },
        "id": "RF6Stzsvtlm8",
        "outputId": "5790709a-68ae-4066-c472-ed0aafe1aa2f"
      },
      "source": [
        "\n",
        "print(loss_function(W, x_space))\n",
        "res = [1 + xi * neural_network(W, xi)[0][0] for xi in x_space] \n",
        "\n",
        "print(W)\n",
        "\n",
        "plt.figure()\n",
        "plt.plot(x_space, y_space) \n",
        "plt.plot(x_space, psy_fd)\n",
        "plt.plot(x_space, res)\n",
        "plt.show()"
      ],
      "execution_count": 8,
      "outputs": [
        {
          "output_type": "stream",
          "text": [
            "0.06414296180662717\n",
            "[array([[ 0.97644639,  1.12635874, -1.4901668 , -0.92417708,  0.16858026,\n",
            "         0.79023245,  0.41992301,  4.27630621, -0.00995866, -0.54729795]]), array([[-0.17482613],\n",
            "       [ 1.74116329],\n",
            "       [-2.15365916],\n",
            "       [-1.37588014],\n",
            "       [-0.61641342],\n",
            "       [ 0.3665156 ],\n",
            "       [ 0.31181536],\n",
            "       [-0.41372058],\n",
            "       [ 0.39181979],\n",
            "       [-0.08947994]])]\n"
          ],
          "name": "stdout"
        },
        {
          "output_type": "display_data",
          "data": {
            "image/png": "[encoded data removed]",
            "text/plain": [
              "<Figure size 432x288 with 1 Axes>"
            ]
          },
          "metadata": {
            "tags": [],
            "needs_background": "light"
          }
        }
      ]
    }
  ]
}