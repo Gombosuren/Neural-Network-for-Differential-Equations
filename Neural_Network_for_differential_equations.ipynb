{
  "nbformat": 4,
  "nbformat_minor": 0,
  "metadata": {
    "colab": {
      "name": "Neural Network for differential equations.ipynb",
      "provenance": [],
      "collapsed_sections": [],
      "authorship_tag": "ABX9TyMmHvbd70zrCYJyNFfu2Glq"
    },
    "kernelspec": {
      "name": "python3",
      "display_name": "Python 3"
    }
  },
  "cells": [
    {
      "cell_type": "markdown",
      "metadata": {
        "id": "eCA8j8pamfAE"
      },
      "source": [
        "### Gombosuren.A, MUST"
      ]
    },
    {
      "cell_type": "markdown",
      "metadata": {
        "id": "-K2PSm08mgST"
      },
      "source": [
        "### Neural Network for differential equations\n",
        "\n",
        "Нейрол нетвөрк ашиглан дифференциал тэгшитгэлийн тооцооллыг ойролцоогоор шийдэх аргачлал."
      ]
    },
    {
      "cell_type": "markdown",
      "metadata": {
        "id": "E2osIogXnUnY"
      },
      "source": [
        "[reference1](https://becominghuman.ai/neural-networks-for-solving-differential-equations-fa230ac5e04c)"
      ]
    },
    {
      "cell_type": "markdown",
      "metadata": {
        "id": "idBdPIYSnVI-"
      },
      "source": [
        "#### import libs\n"
      ]
    },
    {
      "cell_type": "code",
      "metadata": {
        "id": "U9WmIUrfmfI0"
      },
      "source": [
        "import autograd.numpy as np;\n",
        "from autograd import grad; \n",
        "import autograd.numpy.random as npr;\n",
        "from autograd.core import primitive;\n",
        "from matplotlib import pyplot as plt;\n",
        "\n",
        "%matplotlib inline"
      ],
      "execution_count": 8,
      "outputs": []
    },
    {
      "cell_type": "code",
      "metadata": {
        "id": "HcKJ1AoTqihQ"
      },
      "source": [
        "nx = 10;\n",
        "dx = 1 / nx;"
      ],
      "execution_count": 9,
      "outputs": []
    },
    {
      "cell_type": "code",
      "metadata": {
        "id": "ta1MhbRGqveL"
      },
      "source": [
        "def A(x):\n",
        "    '''\n",
        "        Left part of initial equation\n",
        "    '''\n",
        "    return x + (1. + 3.*x**2) / (1. + x + x**3);\n",
        "\n",
        "\n",
        "def B(x):\n",
        "    '''\n",
        "        Right part of initial equation\n",
        "    '''\n",
        "    return x**3 + 2.*x + x**2 * ((1. + 3.*x**2) / (1. + x + x**3));\n",
        "\n",
        "\n",
        "def f(x, psy):\n",
        "    '''\n",
        "        d(psy)/dx = f(x, psy)\n",
        "        This is f() function on the right\n",
        "    '''\n",
        "    return B(x) - psy * A(x);\n",
        "\n",
        "\n",
        "def psy_analytic(x):\n",
        "    '''\n",
        "        Analytical solution of current problem\n",
        "    '''\n",
        "    return (np.exp((-x**2)/2.)) / (1. + x + x**3) + x**2;"
      ],
      "execution_count": 10,
      "outputs": []
    },
    {
      "cell_type": "code",
      "metadata": {
        "colab": {
          "base_uri": "https://localhost:8080/",
          "height": 315
        },
        "id": "QByEsQGttBgB",
        "outputId": "dbbc609c-eb8f-4a77-fe2a-ef68e9bbae15"
      },
      "source": [
        "x_space = np.linspace(0, 1, nx);\n",
        "y_space = psy_analytic(x_space);\n",
        "psy_fd = np.zeros_like(y_space);\n",
        "psy_fd[0] = 1. # IC\n",
        "\n",
        "\n",
        "# euler method;\n",
        "\n",
        "for i in range(1, len(x_space)):\n",
        "    psy_fd[i] = psy_fd[i-1] + B(x_space[i]) * dx - psy_fd[i-1] * A(x_space[i]) * dx;\n",
        "\n",
        "print('<<<  plot  >>>\\n');  \n",
        "plt.figure();\n",
        "plt.plot(x_space, y_space, label = 'Euler method curve');\n",
        "plt.plot(x_space, psy_fd, label = 'Analytical curve');\n",
        "plt.title('Euler and Analytic curves');\n",
        "plt.legend();\n",
        "plt.show();"
      ],
      "execution_count": 17,
      "outputs": [
        {
          "output_type": "stream",
          "text": [
            "<<<  plot  >>>\n",
            "\n"
          ],
          "name": "stdout"
        },
        {
          "output_type": "display_data",
          "data": {
            "image/png": "[encoded data removed]",
            "text/plain": [
              "<Figure size 432x288 with 1 Axes>"
            ]
          },
          "metadata": {
            "tags": [],
            "needs_background": "light"
          }
        }
      ]
    },
    {
      "cell_type": "code",
      "metadata": {
        "id": "w6ad4ig2taqf"
      },
      "source": [
        "# activation function;\n",
        "\n",
        "def sigmoid(x):\n",
        "    return 1 / (1 + np.exp(-x));\n",
        "\n",
        "\n",
        "# gradient of activation function;\n",
        "\n",
        "def sigmoid_grad(x):\n",
        "    return sigmoid(x) * (1 - sigmoid(x));\n",
        "\n",
        "\n",
        "# weight function;\n",
        "\n",
        "def neural_network(W, x):\n",
        "    a1 = sigmoid(np.dot(x, W[0]));\n",
        "    return np.dot(a1, W[1]);\n",
        "\n",
        "\n",
        "# gradient of weight function;\n",
        "\n",
        "def d_neural_network_dx(W, x, k = 1):\n",
        "    return np.dot(np.dot(W[1].T, W[0].T**k), sigmoid_grad(x));\n",
        "\n",
        "\n",
        "# loss function;\n",
        "\n",
        "def loss_function(W, x):\n",
        "    loss_sum = 0.\n",
        "    for xi in x:\n",
        "        net_out = neural_network(W, xi)[0][0];\n",
        "        psy_t = 1. + xi * net_out;\n",
        "        d_net_out = d_neural_network_dx(W, xi)[0][0];\n",
        "        d_psy_t = net_out + xi * d_net_out;\n",
        "        func = f(xi, psy_t);       \n",
        "        err_sqr = (d_psy_t - func)**2;\n",
        "\n",
        "        loss_sum += err_sqr;\n",
        "    return loss_sum;"
      ],
      "execution_count": 18,
      "outputs": []
    },
    {
      "cell_type": "code",
      "metadata": {
        "id": "thtRQNjOtfDd"
      },
      "source": [
        "W = [npr.randn(1, 10), npr.randn(10, 1)];\n",
        "lmb = 0.001;\n",
        "\n",
        "# x = np.array(1);\n",
        "# print neural_network(W, x);\n",
        "# print d_neural_network_dx(W, x);\n",
        "\n",
        "for i in range(1000):\n",
        "    loss_grad =  grad(loss_function)(W, x_space);\n",
        "    \n",
        "#     print loss_grad[0].shape, W[0].shape;\n",
        "#     print loss_grad[1].shape, W[1].shape;\n",
        "    \n",
        "    W[0] = W[0] - lmb * loss_grad[0];\n",
        "    W[1] = W[1] - lmb * loss_grad[1];\n",
        "    \n",
        "#     print loss_function(W, x_space);"
      ],
      "execution_count": 19,
      "outputs": []
    },
    {
      "cell_type": "code",
      "metadata": {
        "colab": {
          "base_uri": "https://localhost:8080/",
          "height": 553
        },
        "id": "RF6Stzsvtlm8",
        "outputId": "e7ff296b-20b2-41d1-9efe-db6bf4ed3d65"
      },
      "source": [
        "print('loss: ', loss_function(W, x_space), '\\n');\n",
        "res = [1 + xi * neural_network(W, xi)[0][0] for xi in x_space];\n",
        "\n",
        "print('weight: ', W, '\\n');\n",
        "print('<<<  plot  >>>\\n');\n",
        "plt.figure();\n",
        "plt.plot(x_space, y_space, label = 'Euler method curve');\n",
        "plt.plot(x_space, psy_fd, label = 'Analytical curve');\n",
        "plt.plot(x_space, res, label = 'Neural network curve');\n",
        "plt.title('Result curves');\n",
        "plt.legend();\n",
        "plt.show();"
      ],
      "execution_count": 21,
      "outputs": [
        {
          "output_type": "stream",
          "text": [
            "loss:  0.21778326929101843 \n",
            "\n",
            "weight:  [array([[-0.26549227,  0.3899858 ,  0.47482469, -1.80060271, -0.47740491,\n",
            "         0.26105923,  0.76270343,  0.48397373,  1.77220659,  0.04999721]]), array([[-1.56449319],\n",
            "       [ 1.25861227],\n",
            "       [-1.05559478],\n",
            "       [-2.11784637],\n",
            "       [-0.32417829],\n",
            "       [-0.74865142],\n",
            "       [ 0.63132515],\n",
            "       [ 1.23300624],\n",
            "       [ 0.56962493],\n",
            "       [-0.20093641]])] \n",
            "\n",
            "<<<  plot  >>>\n",
            "\n"
          ],
          "name": "stdout"
        },
        {
          "output_type": "display_data",
          "data": {
            "image/png": "[encoded data removed]",
            "text/plain": [
              "<Figure size 432x288 with 1 Axes>"
            ]
          },
          "metadata": {
            "tags": [],
            "needs_background": "light"
          }
        }
      ]
    }
  ]
}