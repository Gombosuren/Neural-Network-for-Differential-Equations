{
  "nbformat": 4,
  "nbformat_minor": 0,
  "metadata": {
    "colab": {
      "name": "NN_for_beginners.ipynb",
      "provenance": [],
      "collapsed_sections": [],
      "authorship_tag": "ABX9TyMZw3TjYG2NY9M72Me85YPo"
    },
    "kernelspec": {
      "name": "python3",
      "display_name": "Python 3"
    }
  },
  "cells": [
    {
      "cell_type": "markdown",
      "metadata": {
        "id": "u3XrUj-xTB-x"
      },
      "source": [
        "### Gombosuren.A, MUST\n",
        "\n",
        "Neural network for beginners\n",
        "\n",
        "Нейрол нетвөрк энгийн жишээ\n",
        "\n",
        "Энэхүү тэмдэглэлдээ нейрол нетвөрк загвар байгуулах, түүнийг хэрхэн хэрэгжүүлж болох талаар энгийн жишээ харууллаа.\n"
      ]
    },
    {
      "cell_type": "code",
      "metadata": {
        "colab": {
          "base_uri": "https://localhost:8080/"
        },
        "id": "aeY3Ki77TCU_",
        "outputId": "9a000aa0-5059-4b2d-e0fd-fda05234b85f"
      },
      "source": [
        "# BUILD NEURAL NETWORK;\n",
        "from random import choice;\n",
        "import numpy as np;\n",
        "np.random.seed(1);\n",
        "\n",
        "# CREATE ACTIVATION FUNCTION; \n",
        "def activation(x):\n",
        "    if x < 0.5:\n",
        "        return 0;\n",
        "    else:\n",
        "        return 1;\n",
        " \n",
        "\n",
        "training_data = [(np.array([0,0,1]), 0),\n",
        "                 (np.array([0,1,1]), 0),\n",
        "                 (np.array([1,0,1]), 0),\n",
        "                 (np.array([1,1,1]), 1),\n",
        "                ];\n",
        "print(\"training data:\\n \", training_data);\n",
        "print(\"\\nactivation function: \", activation);"
      ],
      "execution_count": 22,
      "outputs": [
        {
          "output_type": "stream",
          "text": [
            "training data:\n",
            "  [(array([0, 0, 1]), 0), (array([0, 1, 1]), 0), (array([1, 0, 1]), 0), (array([1, 1, 1]), 1)]\n",
            "\n",
            "activation function:  <function activation at 0x7fc98f8e7510>\n"
          ],
          "name": "stdout"
        }
      ]
    },
    {
      "cell_type": "code",
      "metadata": {
        "colab": {
          "base_uri": "https://localhost:8080/"
        },
        "id": "gLrzbZfOUuXc",
        "outputId": "c824ebdc-5495-42e7-adb0-75c8a0431947"
      },
      "source": [
        "# MODEL PARAMETERS;  \n",
        "learning_rate = 0.2;\n",
        "training_steps = 100;\n",
        "\n",
        "print(\"learning rate: \", learning_rate);\n",
        "print(\"steps: \", training_steps);\n",
        "\n",
        "# INITIALIZE WEIGHTS;\n",
        "W = np.random.rand(len(training_data[0][0])); \n",
        "print(\"initialize weights: \", W);"
      ],
      "execution_count": 23,
      "outputs": [
        {
          "output_type": "stream",
          "text": [
            "learning rate:  0.2\n",
            "steps:  100\n",
            "initialize weights:  [4.17022005e-01 7.20324493e-01 1.14374817e-04]\n"
          ],
          "name": "stdout"
        }
      ]
    },
    {
      "cell_type": "code",
      "metadata": {
        "id": "4G-osKW7VGDO"
      },
      "source": [
        "# MAIN;\n",
        "for i in range(training_steps):\n",
        "    x, y = choice(training_data);\n",
        "    #print(x, y);\n",
        "    L1 = np.dot(W, x);\n",
        "    #print(L1);\n",
        "    y_pred = activation(L1);\n",
        "    #print(y_pred);\n",
        "    error = y - y_pred;\n",
        "    update = learning_rate * error * x; \n",
        "    W +=update;\n"
      ],
      "execution_count": 24,
      "outputs": []
    },
    {
      "cell_type": "code",
      "metadata": {
        "colab": {
          "base_uri": "https://localhost:8080/"
        },
        "id": "g0uTd2J6VeVE",
        "outputId": "2446878a-7b88-46ae-8adb-4e0761999966"
      },
      "source": [
        "# OUTPUT AFTER TRAINING; \n",
        "print(\"Predictions after training\")\n",
        "for x, _ in training_data:\n",
        "    #print(x);\n",
        "    y_pred = np.dot(x, W);\n",
        "    #print(y_pred);\n",
        "    print(\"{}: {}\".format(x[:3], activation(y_pred)));"
      ],
      "execution_count": 25,
      "outputs": [
        {
          "output_type": "stream",
          "text": [
            "Predictions after training\n",
            "[0 0 1]: 0\n",
            "[0 1 1]: 0\n",
            "[1 0 1]: 0\n",
            "[1 1 1]: 1\n"
          ],
          "name": "stdout"
        }
      ]
    }
  ]
}