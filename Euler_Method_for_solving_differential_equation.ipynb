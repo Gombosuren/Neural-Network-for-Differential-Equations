{
  "nbformat": 4,
  "nbformat_minor": 0,
  "metadata": {
    "colab": {
      "name": "Euler Method for solving differential equation.ipynb",
      "provenance": [],
      "collapsed_sections": [],
      "authorship_tag": "ABX9TyN6ETPBxdfWso1+p2pb+ovo"
    },
    "kernelspec": {
      "name": "python3",
      "display_name": "Python 3"
    }
  },
  "cells": [
    {
      "cell_type": "markdown",
      "metadata": {
        "id": "Jzn2Exyd-QqE"
      },
      "source": [
        "### Gombosuren.A, MUST.\r\n",
        "\r\n"
      ]
    },
    {
      "cell_type": "markdown",
      "metadata": {
        "id": "6YJA3QqzXYiW"
      },
      "source": [
        "### Euler Method for solving ordinary differential equation (ODE)\r\n",
        "\r\n",
        "The ODE has to be provided in the following form:"
      ]
    },
    {
      "cell_type": "markdown",
      "metadata": {
        "id": "EMmmFABoU-Tg"
      },
      "source": [
        "$$\\displaystyle{\r\n",
        "\\frac{\\partial y(t)}{\\partial t} = f(t, y(t))\r\n",
        "}$$\r\n",
        "\r\n",
        "$$\\displaystyle{y(t_{0})=y_{0}\r\n",
        "}$$\r\n",
        "\r\n",
        "$$\\displaystyle{\\frac{\\partial y(t)}{\\partial t}\\approx \\frac{y(t+h)-y(t)}{h}\r\n",
        "}$$\r\n",
        "\r\n",
        "$$\\displaystyle{y(t+h)\\approx y(t)+h\\frac{\\partial y(t)}{\\partial t}\r\n",
        "}$$\r\n",
        "\r\n",
        "$$\\displaystyle{y(t+h) \\approx  y(t)+hf(t, y(t))\r\n",
        "}$$\r\n",
        "\r\n",
        "$$\\displaystyle{y_{n+1}=y_{n}+hf(t_{n}, y_{n})\r\n",
        "}$$"
      ]
    },
    {
      "cell_type": "markdown",
      "metadata": {
        "id": "WXcq2D7YZFs4"
      },
      "source": [
        "### Constant Rate of Change\r\n",
        "\r\n",
        "If the dependent variable has a constant rate of change:\r\n",
        "\r\n",
        "$$\\displaystyle{\r\n",
        "\\frac{\\partial y(t)}{\\partial t} = C\r\n",
        "}$$\r\n",
        "\r\n",
        "where C is some constant, you can provide the differential equation in the f function and then calculate answers using this model with the code below. The code assumes there are 100 evenly spaced times between 0 and 10, the initial value of y is 6, and the rate of change is 1.2:"
      ]
    },
    {
      "cell_type": "markdown",
      "metadata": {
        "id": "LZRK4Daxc6iI"
      },
      "source": [
        "#### Import libs;"
      ]
    },
    {
      "cell_type": "code",
      "metadata": {
        "id": "jmWxH__aHnpB"
      },
      "source": [
        "import numpy as np;\r\n",
        "import matplotlib.pyplot as plt;"
      ],
      "execution_count": 85,
      "outputs": []
    },
    {
      "cell_type": "markdown",
      "metadata": {
        "id": "5UoPdMIpdC4O"
      },
      "source": [
        "#### Params\r\n",
        "\r\n",
        "```\r\n",
        "y0 = 6;\r\n",
        "rate = 1.2;\r\n",
        "time_step = 100;\r\n",
        "time_lower = 0;\r\n",
        "time_upper = 10;\r\n",
        "```\r\n",
        "\r\n"
      ]
    },
    {
      "cell_type": "code",
      "metadata": {
        "colab": {
          "base_uri": "https://localhost:8080/"
        },
        "id": "KhkvOErv-Q6R",
        "outputId": "65381e2c-ae9e-4141-d27b-035067f55c15"
      },
      "source": [
        "h = (time_upper-time_lower)/time_step;\r\n",
        "print(h);"
      ],
      "execution_count": 94,
      "outputs": [
        {
          "output_type": "stream",
          "text": [
            "0.1\n"
          ],
          "name": "stdout"
        }
      ]
    },
    {
      "cell_type": "markdown",
      "metadata": {
        "id": "jlArUtRIdQaO"
      },
      "source": [
        "#### Main"
      ]
    },
    {
      "cell_type": "code",
      "metadata": {
        "id": "RZP_bfxMSFXN"
      },
      "source": [
        "def f(time, y):\r\n",
        "  return 1.2;\r\n",
        "\r\n",
        "D = [];\r\n",
        "S =  [];\r\n",
        "\r\n",
        "def ODE_euler_method(f, y0, t_lower, t_upper, h):\r\n",
        "\r\n",
        "  y = y0;\r\n",
        "  time = t_lower;\r\n",
        "\r\n",
        "  while time <= t_upper:\r\n",
        "    D.append(y);\r\n",
        "    S.append(time);\r\n",
        "    y = y + h*f(time, y);\r\n",
        "    time = time+h;\r\n",
        "\r\n",
        "ODE_euler_method(f,6,0,10,0.1);"
      ],
      "execution_count": 100,
      "outputs": []
    },
    {
      "cell_type": "markdown",
      "metadata": {
        "id": "CWf-tGQzdR8G"
      },
      "source": [
        "#### Plot"
      ]
    },
    {
      "cell_type": "code",
      "metadata": {
        "colab": {
          "base_uri": "https://localhost:8080/",
          "height": 279
        },
        "id": "wuSr6-nETA0a",
        "outputId": "600c20ac-532f-4cc7-d76f-749e4475b9d9"
      },
      "source": [
        "plt.plot(S, D);\r\n",
        "plt.xlabel('time');\r\n",
        "plt.ylabel('y(t)');\r\n",
        "plt.show();"
      ],
      "execution_count": 101,
      "outputs": [
        {
          "output_type": "display_data",
          "data": {
            "image/png": "[encoded data removed]",
            "text/plain": [
              "<Figure size 432x288 with 1 Axes>"
            ]
          },
          "metadata": {
            "tags": [],
            "needs_background": "light"
          }
        }
      ]
    },
    {
      "cell_type": "markdown",
      "metadata": {
        "id": "wvmRK7fpbwgE"
      },
      "source": [
        "### Population Growth\r\n",
        "\r\n",
        "For population growth, the rate of change of population is dependent upon the number of people as well as some constant of proportionality:\r\n",
        "\r\n",
        "$$\\displaystyle{\r\n",
        "\\frac{\\partial y(t)}{\\partial t} = C \\cdot y\r\n",
        "}$$\r\n",
        "\r\n",
        "where C is again some constant. The following code will calculate the population for a span of 3 seconds with 25 points for the population model above with an initial population of 10 and a constant of proportionality of 1.02:"
      ]
    },
    {
      "cell_type": "markdown",
      "metadata": {
        "id": "-uNyUN2NdY_X"
      },
      "source": [
        "#### Params\r\n",
        "\r\n",
        "```\r\n",
        "y0 = 10;\r\n",
        "rate = 1.02;\r\n",
        "time_step = 25;\r\n",
        "time_lower = 0;\r\n",
        "time_upper = 3;\r\n",
        "```"
      ]
    },
    {
      "cell_type": "code",
      "metadata": {
        "colab": {
          "base_uri": "https://localhost:8080/"
        },
        "id": "xGeQoG0bcTdb",
        "outputId": "3f9eb89b-e6cc-4cc7-80d2-20159498318b"
      },
      "source": [
        "h = (time_upper-time_lower)/time_step;\r\n",
        "print(h);"
      ],
      "execution_count": 99,
      "outputs": [
        {
          "output_type": "stream",
          "text": [
            "0.12\n"
          ],
          "name": "stdout"
        }
      ]
    },
    {
      "cell_type": "markdown",
      "metadata": {
        "id": "pWTzdupHdbWG"
      },
      "source": [
        "#### Main"
      ]
    },
    {
      "cell_type": "code",
      "metadata": {
        "id": "cfSs3DJScjpP"
      },
      "source": [
        "def f(time, y):\r\n",
        "  return 1.02*y;\r\n",
        "\r\n",
        "D = [];\r\n",
        "S =  [];\r\n",
        "\r\n",
        "def ODE_euler_method(f, y0, t_lower, t_upper, h):\r\n",
        "\r\n",
        "  y = y0;\r\n",
        "  time = t_lower;\r\n",
        "\r\n",
        "  while time <= t_upper:\r\n",
        "    D.append(y);\r\n",
        "    S.append(time);\r\n",
        "    y = y + h*f(time, y);\r\n",
        "    time = time+h;\r\n",
        "\r\n",
        "ODE_euler_method(f,10,0,3,0.12);"
      ],
      "execution_count": 102,
      "outputs": []
    },
    {
      "cell_type": "markdown",
      "metadata": {
        "id": "7a2L4hB_dirn"
      },
      "source": [
        "#### Plot"
      ]
    },
    {
      "cell_type": "code",
      "metadata": {
        "colab": {
          "base_uri": "https://localhost:8080/",
          "height": 279
        },
        "id": "mLkCZWFDc0hW",
        "outputId": "ead85cf7-5e12-4d33-b094-b198505b4cba"
      },
      "source": [
        "plt.plot(S, D);\r\n",
        "plt.xlabel('time');\r\n",
        "plt.ylabel('y(t)');\r\n",
        "plt.show();"
      ],
      "execution_count": 103,
      "outputs": [
        {
          "output_type": "display_data",
          "data": {
            "image/png": "[encoded data removed]",
            "text/plain": [
              "<Figure size 432x288 with 1 Axes>"
            ]
          },
          "metadata": {
            "tags": [],
            "needs_background": "light"
          }
        }
      ]
    },
    {
      "cell_type": "markdown",
      "metadata": {
        "id": "Znc4ZF06dlPA"
      },
      "source": [
        "### Thank you so much\r\n"
      ]
    }
  ]
}