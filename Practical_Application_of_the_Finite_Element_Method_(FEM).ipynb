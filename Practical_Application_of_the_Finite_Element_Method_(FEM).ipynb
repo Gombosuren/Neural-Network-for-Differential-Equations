{
  "nbformat": 4,
  "nbformat_minor": 0,
  "metadata": {
    "colab": {
      "name": "Practical Application of the Finite Element Method (FEM).ipynb",
      "provenance": [],
      "collapsed_sections": [],
      "authorship_tag": "ABX9TyMhPnVA7zy2igz2jTHQWLAj"
    },
    "kernelspec": {
      "name": "python3",
      "display_name": "Python 3"
    }
  },
  "cells": [
    {
      "cell_type": "markdown",
      "metadata": {
        "id": "9tjXGyZzs7pm"
      },
      "source": [
        "### Gombosuren.A, MUST."
      ]
    },
    {
      "cell_type": "markdown",
      "metadata": {
        "id": "6TyNTJfds7s0"
      },
      "source": [
        "### Practical Application of the  Finite Element Method (FEM)\r\n",
        "\r\n",
        "### Төгсгөлөг элементийн аргын практик хэрэглээ"
      ]
    },
    {
      "cell_type": "markdown",
      "metadata": {
        "id": "hgv8THjmtCnS"
      },
      "source": [
        "Дифференциал тэгшитгэлийн тоон шийдийг олохын тулд бид төгсгөлөг элементийн арга (FEM) ашиглах болно"
      ]
    },
    {
      "cell_type": "markdown",
      "metadata": {
        "id": "VdS-2nj-0t1N"
      },
      "source": [
        "Бид FEM-ыг ашиглан тооцоолол хийхдээ дараах алхмуудын дагуу тооцоолол хийнэ.\r\n",
        "\r\n",
        "- Discretize the domain\r\n",
        "- Choose basis functions $\\phi$\r\n",
        "- Compute stiffness matrix and mass vector\r\n",
        "- Solve the linear system"
      ]
    },
    {
      "cell_type": "markdown",
      "metadata": {
        "id": "XL35iF191SrR"
      },
      "source": [
        "### Discretize the domain\r\n",
        "\r\n",
        "$\\Omega = [0,1]$\r\n",
        "\r\n",
        "$u(0)=u(1)=0$\r\n",
        "\r\n",
        "$u''=6x-2$\r\n",
        "\r\n",
        "Магадгүй $u$ функц $u(x) = x^{3}-x^{2}$ бид төсөөллийн тооцоолол хийж болох юм.\r\n",
        "\r\n",
        "$x_{0}, ... , x_{n}$ цэгүүд үүсгэнэ."
      ]
    },
    {
      "cell_type": "code",
      "metadata": {
        "colab": {
          "base_uri": "https://localhost:8080/"
        },
        "id": "G9ZMPJYotCwz",
        "outputId": "391ecd6b-f64c-43ec-8c50-bf962d9bbdc4"
      },
      "source": [
        "%matplotlib inline;\r\n",
        "import numpy as np;\r\n",
        "import matplotlib.pyplot as plt;\r\n",
        "\r\n",
        "# Number of elements;\r\n",
        "n = 10;\r\n",
        "\r\n",
        "# Element size;\r\n",
        "lower = 0;\r\n",
        "upper = 1;\r\n",
        "h = (upper-lower)/n;\r\n",
        "\r\n",
        "# Nodes;\r\n",
        "xs = np.linspace(0, 1, n+1);\r\n",
        "\r\n",
        "f = lambda x: 6*x - 2;\r\n",
        "print(\"x = 5, f(x), result: \", f(5));"
      ],
      "execution_count": null,
      "outputs": [
        {
          "output_type": "stream",
          "text": [
            "x = 5, f(x), result:  28\n"
          ],
          "name": "stdout"
        }
      ]
    },
    {
      "cell_type": "markdown",
      "metadata": {
        "id": "wZ781AB14nn2"
      },
      "source": [
        "### Choose basis functions\r\n",
        "\r\n",
        "$i=1, ..., n-1$\r\n",
        "\r\n",
        "$$\\int_{\\Omega} \\nabla u \\cdot \\nabla \\phi_{i}=\\int f\\phi_{i}$$\r\n",
        "\r\n",
        "$\\phi_{i},$ $1 \\leq i \\leq n-1$\r\n",
        "\r\n",
        "$\\phi_{i} = \\begin{cases} \r\n",
        "0 & \\text{Хэрэв } \\quad x>x_{i-1}\r\n",
        "\\\\ \\frac{x-x_{i-1}}{x_{i}-x_{i-1}} & \\text{Хэрэв } \\quad x>x_{i+1}\r\n",
        "\\\\ \\frac{x_{i+1}-x}{x_{i+1}-x_{i}} & \\text{Хэрэв } \\quad x_{i}<x<x_{i+1}\r\n",
        "\\\\ 0 & \\text{Хэрэв } \\quad x>x_{i+1}\r\n",
        "\\end{cases}$"
      ]
    },
    {
      "cell_type": "code",
      "metadata": {
        "colab": {
          "base_uri": "https://localhost:8080/",
          "height": 295
        },
        "id": "NUop11Mn4EOo",
        "outputId": "0e84efe8-901c-4c90-8b31-89f9e5138e27"
      },
      "source": [
        "for i in range(1,n):\r\n",
        "    phi=(np.zeros(xs.shape));\r\n",
        "    phi[i] = 1;\r\n",
        "    if i == 4:\r\n",
        "        plt.plot(xs,phi,'r-x');\r\n",
        "    else:\r\n",
        "        plt.plot(xs,phi,'b-x');\r\n",
        "\r\n",
        "plt.title(r'Basis functions ');\r\n",
        "plt.text(4./n, 1.4, r'$\\phi_4$', fontdict = {'color':'red','size':24});\r\n",
        "plt.xlabel(r'$x$');\r\n",
        "plt.axis([0, 1, 0, 2]);\r\n",
        "plt.ylabel(r'$\\phi_i(x)$');\r\n",
        "plt.show();"
      ],
      "execution_count": null,
      "outputs": [
        {
          "output_type": "display_data",
          "data": {
            "image/png": "[encoded data removed]",
            "text/plain": [
              "<Figure size 432x288 with 1 Axes>"
            ]
          },
          "metadata": {
            "tags": [],
            "needs_background": "light"
          }
        }
      ]
    }
  ]
}